{
  "nbformat": 4,
  "nbformat_minor": 0,
  "metadata": {
    "colab": {
      "provenance": []
    },
    "kernelspec": {
      "name": "python3",
      "display_name": "Python 3"
    },
    "language_info": {
      "name": "python"
    }
  },
  "cells": [
    {
      "cell_type": "markdown",
      "source": [
        "#Digit Recognition using classification CNN\n"
      ],
      "metadata": {
        "id": "mBhrVDXHuCcT"
      }
    },
    {
      "cell_type": "markdown",
      "source": [
        "Importing Data"
      ],
      "metadata": {
        "id": "uKCvAgjLudL5"
      }
    },
    {
      "cell_type": "code",
      "execution_count": 23,
      "metadata": {
        "id": "D3uTx8mopi5-"
      },
      "outputs": [],
      "source": [
        "import torch\n",
        "import torchvision\n",
        "import matplotlib.pyplot as plt\n",
        "import numpy as np"
      ]
    },
    {
      "cell_type": "code",
      "source": [
        "device = torch.device('cuda' if torch.cuda.is_available() else 'cpu')\n",
        "\n",
        "normalize_transform = torchvision.transforms.Compose([\n",
        "    torchvision.transforms.ToTensor(),\n",
        "    torchvision.transforms.Normalize(mean = (0.5), \n",
        "                                     std = (0.5))])"
      ],
      "metadata": {
        "id": "u7wlj3zsuB3o"
      },
      "execution_count": 24,
      "outputs": []
    },
    {
      "cell_type": "code",
      "source": [
        "train_data = torchvision.datasets.MNIST(\n",
        "    root = 'data',\n",
        "    train = True,                         \n",
        "    transform = normalize_transform, \n",
        "    download = True,            \n",
        ")\n",
        "\n",
        "test_data = torchvision.datasets.MNIST(\n",
        "    root = 'data', \n",
        "    train = False, \n",
        "    transform = normalize_transform,\n",
        "    download = True\n",
        ")"
      ],
      "metadata": {
        "id": "KByBswq5uo9X"
      },
      "execution_count": 25,
      "outputs": []
    },
    {
      "cell_type": "markdown",
      "source": [
        "Hyperparameters"
      ],
      "metadata": {
        "id": "gUtOHV5lvgSE"
      }
    },
    {
      "cell_type": "code",
      "source": [
        "num_epochs = 5\n",
        "batch_size = 100\n",
        "learning_rate = 0.001"
      ],
      "metadata": {
        "id": "cZDdF_gpvgmL"
      },
      "execution_count": 52,
      "outputs": []
    },
    {
      "cell_type": "markdown",
      "source": [
        "Generating Data Loaders"
      ],
      "metadata": {
        "id": "sfvHfldOv-Hf"
      }
    },
    {
      "cell_type": "code",
      "source": [
        "train_loader = torch.utils.data.DataLoader(train_data, batch_size=batch_size, shuffle=True)\n",
        "test_loader = torch.utils.data.DataLoader(test_data, batch_size=batch_size)"
      ],
      "metadata": {
        "id": "FfQ0sEMUv8_j"
      },
      "execution_count": 27,
      "outputs": []
    },
    {
      "cell_type": "code",
      "source": [
        "classes = []\n",
        "for batch_idx, data in enumerate(train_loader, 0):\n",
        "    x, y = data \n",
        "    classes.extend(y.tolist())\n",
        "labels = np.unique(classes)\n",
        "labels"
      ],
      "metadata": {
        "colab": {
          "base_uri": "https://localhost:8080/"
        },
        "id": "36TtV7UEwrRQ",
        "outputId": "e3d6445b-fdb8-4bd6-92ed-b5b81cfdb2f3"
      },
      "execution_count": 33,
      "outputs": [
        {
          "output_type": "execute_result",
          "data": {
            "text/plain": [
              "array([0, 1, 2, 3, 4, 5, 6, 7, 8, 9])"
            ]
          },
          "metadata": {},
          "execution_count": 33
        }
      ]
    },
    {
      "cell_type": "code",
      "source": [
        "x.shape, y.shape"
      ],
      "metadata": {
        "colab": {
          "base_uri": "https://localhost:8080/"
        },
        "id": "aO_QTFC22VN6",
        "outputId": "9fbacf63-8b93-4699-c6b1-8ace63bc43d5"
      },
      "execution_count": 38,
      "outputs": [
        {
          "output_type": "execute_result",
          "data": {
            "text/plain": [
              "(torch.Size([100, 1, 28, 28]), torch.Size([100]))"
            ]
          },
          "metadata": {},
          "execution_count": 38
        }
      ]
    },
    {
      "cell_type": "code",
      "source": [
        "class CNN(torch.nn.Module):\n",
        "    def __init__(self):\n",
        "        super().__init__()\n",
        "        self.model = torch.nn.Sequential(\n",
        "            #Input = 1 x 32 x 32, Output = 32 x 32 x 32\n",
        "            torch.nn.Conv2d(in_channels = 1, out_channels = 32, kernel_size = 3, padding = 1), \n",
        "            torch.nn.ReLU(),\n",
        "            #Input = 32 x 32 x 32, Output = 32 x 16 x 16\n",
        "            torch.nn.MaxPool2d(kernel_size=2),\n",
        "  \n",
        "            #Input = 32 x 16 x 16, Output = 64 x 16 x 16\n",
        "            torch.nn.Conv2d(in_channels = 32, out_channels = 64, kernel_size = 3, padding = 1),\n",
        "            torch.nn.ReLU(),\n",
        "            #Input = 64 x 16 x 16, Output = 64 x 8 x 8\n",
        "            torch.nn.MaxPool2d(kernel_size=2),\n",
        "  \n",
        "            torch.nn.Flatten(),\n",
        "            torch.nn.Linear(64*7*7, 1000),\n",
        "            torch.nn.ReLU(),\n",
        "            torch.nn.Linear(1000, 10)\n",
        "        )\n",
        "  \n",
        "    def forward(self, x):\n",
        "        return self.model(x)"
      ],
      "metadata": {
        "id": "l0Gpxjuc3Cws"
      },
      "execution_count": 53,
      "outputs": []
    },
    {
      "cell_type": "code",
      "source": [
        "model = CNN().to(device)\n",
        "\n",
        "loss_func = torch.nn.CrossEntropyLoss()\n",
        "optimizer = torch.optim.Adam(model.parameters(), lr=learning_rate)\n",
        "\n",
        "for epoch in range(num_epochs):\n",
        "  \n",
        "    #Iterating over the training dataset in batches\n",
        "    model.train()\n",
        "    for i, (images, labels) in enumerate(train_loader):\n",
        "          \n",
        "        #Extracting images and target labels for the batch being iterated\n",
        "        images = images.to(device)\n",
        "        labels = labels.to(device)\n",
        "  \n",
        "        #Calculating the model output and the cross entropy loss\n",
        "        outputs = model(images)\n",
        "        loss = loss_func(outputs, labels)\n",
        "  \n",
        "        #Updating weights according to calculated loss\n",
        "        optimizer.zero_grad()\n",
        "        loss.backward()\n",
        "        optimizer.step()"
      ],
      "metadata": {
        "id": "j5VkylTE5aLq"
      },
      "execution_count": 54,
      "outputs": []
    },
    {
      "cell_type": "code",
      "source": [
        "test_acc=0\n",
        "model.eval()\n",
        "  \n",
        "with torch.no_grad():\n",
        "    #Iterating over the training dataset in batches\n",
        "    for i, (images, labels) in enumerate(test_loader):\n",
        "          \n",
        "        images = images.to(device)\n",
        "        y_true = labels.to(device)\n",
        "          \n",
        "        #Calculating outputs for the batch being iterated\n",
        "        outputs = model(images)\n",
        "          \n",
        "        #Calculated prediction labels from models\n",
        "        _, y_pred = torch.max(outputs.data, 1)\n",
        "          \n",
        "        #Comparing predicted and true labels\n",
        "        test_acc += (y_pred == y_true).sum().item()\n",
        "      \n",
        "    print(f\"Test set accuracy = {100 * test_acc / len(test_data)} %\")"
      ],
      "metadata": {
        "colab": {
          "base_uri": "https://localhost:8080/"
        },
        "id": "TlGt3G9DIfdJ",
        "outputId": "58ae84a4-0b87-438b-8f7f-06b34987a279"
      },
      "execution_count": 55,
      "outputs": [
        {
          "output_type": "stream",
          "name": "stdout",
          "text": [
            "Test set accuracy = 98.97 %\n"
          ]
        }
      ]
    }
  ]
}